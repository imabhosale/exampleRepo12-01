{
 "cells": [
  {
   "cell_type": "code",
   "execution_count": 6,
   "id": "07b5b7ac-d0f5-4bf3-9746-8cf5dbf6fe92",
   "metadata": {
    "tags": []
   },
   "outputs": [
    {
     "name": "stdout",
     "output_type": "stream",
     "text": [
      "(25,)\n",
      "[[ 0  1  2  3  4]\n",
      " [ 5  6  7  8  9]\n",
      " [10 11 12 13 14]\n",
      " [15 16 17 18 19]\n",
      " [20 21 22 23 24]]\n"
     ]
    }
   ],
   "source": [
    "import numpy as np\n",
    "L=[2,3,4,56,7]\n",
    "type(L)\n",
    "arr=np.array(L)\n",
    "# print(arr)\n",
    "type(arr)\n",
    "am=(np.arange(25))\n",
    "print(am.shape)\n",
    "np.linspace(2,3,10)\n",
    "akm=am.reshape(5,5)\n",
    "print(akm)\n"
   ]
  },
  {
   "cell_type": "code",
   "execution_count": 13,
   "id": "c8a86099-8963-4250-8670-552fefbe841e",
   "metadata": {},
   "outputs": [
    {
     "name": "stdout",
     "output_type": "stream",
     "text": [
      "1\n",
      "9\n",
      "Concatenated Array:\n",
      "[[ 1  2  3]\n",
      " [ 4  5  6]\n",
      " [ 7  8  9]\n",
      " [11 12 13]\n",
      " [14 15 16]]\n"
     ]
    }
   ],
   "source": [
    "import numpy as np\n",
    "\n",
    "# Define the arrays\n",
    "array1 = np.array([[1, 2, 3], [4, 5, 6], [7, 8, 9]])\n",
    "array2 = np.array([[11, 12, 13], [14, 15, 16]])\n",
    "print(np.min(array1))\n",
    "print(np.max(array1))\n",
    "\n",
    "# Concatenate the arrays along axis 0 (rows)\n",
    "concatenated_array = np.concatenate((array1, array2), axis=0)\n",
    "\n",
    "print(\"Concatenated Array:\")\n",
    "print(concatenated_array)\n",
    "\n",
    "\n",
    "#ar1=np.array([[1, 2, 3], [4, 5, 6], [7, 8, 9]])\n",
    "#arr2 = np.array([[11, 12], [14, 15, 16]])\n",
    "#comn=np.concatenated((ar1,arr2))\n",
    "#print(comn)"
   ]
  },
  {
   "cell_type": "code",
   "execution_count": 69,
   "id": "cc065143-00c6-49ae-9923-c3fdb1e893c5",
   "metadata": {},
   "outputs": [
    {
     "name": "stdout",
     "output_type": "stream",
     "text": [
      "[ 6  7  8  9 10]\n",
      "[ 6  8 10]\n",
      "[1, 2, 3, 4, 5, 6]\n"
     ]
    }
   ],
   "source": [
    "# Create an array\n",
    "numbers = np.array([1,2,3,4,5,6,7,8,9,10])\n",
    "\n",
    "# Use boolean indexing to get numbers greater than 5 and divisible by 2\n",
    "result = numbers[(numbers > 5)]\n",
    "print(result)\n",
    "result1 = numbers[(numbers > 5) & (numbers % 2 == 0)] \n",
    "print(numbers[(numbers > 5) & (numbers % 2 == 0)])\n",
    "\n",
    "num=[6,5,4,3,2,1]\n",
    "print(sorted(num))\n"
   ]
  },
  {
   "cell_type": "code",
   "execution_count": 3,
   "id": "f478436f-5667-4e65-bcf6-0738b493b744",
   "metadata": {},
   "outputs": [
    {
     "name": "stdout",
     "output_type": "stream",
     "text": [
      "Matrix A:\n",
      " [[1 2 3]\n",
      " [3 4 4]]\n",
      "\n",
      "Matrix B:\n",
      " [[5 6 1]\n",
      " [7 8 0]]\n",
      "\n",
      "Addition:\n",
      " [[ 6  8  4]\n",
      " [10 12  4]]\n",
      "\n",
      "Subtraction:\n",
      " [[-4 -4  2]\n",
      " [-4 -4  4]]\n",
      "\n",
      "Element-wise multiplication:\n",
      " [[ 5 12  3]\n",
      " [21 32  0]]\n",
      "\n",
      "Scalar multiplication:\n",
      " [[2 4 6]\n",
      " [6 8 8]]\n",
      "\n",
      "Transpose of matrix A:\n",
      " [[1 3]\n",
      " [2 4]\n",
      " [3 4]]\n",
      "\n",
      "Inverse of matrix A:\n",
      " Matrix A is not invertible\n"
     ]
    }
   ],
   "source": [
    "import numpy as np\n",
    "\n",
    "# Creating matrices A and B\n",
    "A = np.array([[1, 2, 3],\n",
    "              [3, 4, 4]])\n",
    "\n",
    "B = np.array([[5, 6, 1],\n",
    "              [7, 8, 0]])\n",
    "\n",
    "# Addition of matrices A and B\n",
    "addition = A + B\n",
    "\n",
    "# Subtraction of matrices A and B\n",
    "subtraction = A - B\n",
    "\n",
    "# Element-wise multiplication of matrices A and B\n",
    "elementwise_multiplication = A * B\n",
    "\n",
    "# Scalar multiplication of matrix A by a scalar value\n",
    "scalar = 2\n",
    "scalar_multiplication = scalar * A\n",
    "\n",
    "# Transpose of matrix A\n",
    "transpose_A = np.transpose(A)\n",
    "\n",
    "# Inverse of matrix A (if invertible)\n",
    "try:\n",
    "    inverse_A = np.linalg.inv(A)\n",
    "except np.linalg.LinAlgError:\n",
    "    inverse_A = \"Matrix A is not invertible\"\n",
    "\n",
    "# Printing the results\n",
    "print(\"Matrix A:\\n\", A)\n",
    "print(\"\\nMatrix B:\\n\", B)\n",
    "print(\"\\nAddition:\\n\", addition)\n",
    "print(\"\\nSubtraction:\\n\", subtraction)\n",
    "print(\"\\nElement-wise multiplication:\\n\", elementwise_multiplication)\n",
    "print(\"\\nScalar multiplication:\\n\", scalar_multiplication)\n",
    "print(\"\\nTranspose of matrix A:\\n\", transpose_A)\n",
    "print(\"\\nInverse of matrix A:\\n\", inverse_A)\n"
   ]
  },
  {
   "cell_type": "code",
   "execution_count": 12,
   "id": "0678ecc4-c073-45a8-b809-1f935210f57d",
   "metadata": {},
   "outputs": [
    {
     "name": "stdout",
     "output_type": "stream",
     "text": [
      "1\n",
      "3\n",
      "5\n",
      "7\n",
      "9\n"
     ]
    },
    {
     "data": {
      "text/plain": [
       "int"
      ]
     },
     "execution_count": 12,
     "metadata": {},
     "output_type": "execute_result"
    }
   ],
   "source": [
    "for i in range(1,10,2):\n",
    "    print(i)\n",
    "type(i)"
   ]
  },
  {
   "cell_type": "code",
   "execution_count": 8,
   "id": "5ac1aeec-d110-45ee-b9e7-d407970fb014",
   "metadata": {
    "tags": []
   },
   "outputs": [
    {
     "data": {
      "text/plain": [
       "array([1, 3, 5, 7, 9])"
      ]
     },
     "execution_count": 8,
     "metadata": {},
     "output_type": "execute_result"
    }
   ],
   "source": [
    "import numpy as np\n",
    "np.arange(1,10,2)"
   ]
  },
  {
   "cell_type": "code",
   "execution_count": 16,
   "id": "69f10bcb-f00e-4bd1-b461-7a332fb2a782",
   "metadata": {
    "tags": []
   },
   "outputs": [
    {
     "name": "stdout",
     "output_type": "stream",
     "text": [
      "0.4\n"
     ]
    }
   ],
   "source": [
    "for i in range(1,10,9):\n",
    "    print(i/2.5)"
   ]
  },
  {
   "cell_type": "code",
   "execution_count": 10,
   "id": "50ec1fc3-b19c-4183-93f4-f8a0bcd58588",
   "metadata": {
    "tags": []
   },
   "outputs": [
    {
     "data": {
      "text/plain": [
       "array([1. , 3.5, 6. , 8.5])"
      ]
     },
     "execution_count": 10,
     "metadata": {},
     "output_type": "execute_result"
    }
   ],
   "source": [
    "import numpy as np\n",
    "np.arange(1,10,2.5)"
   ]
  },
  {
   "cell_type": "code",
   "execution_count": null,
   "id": "6ec77385-21af-45c5-9a06-e4ce189e284e",
   "metadata": {},
   "outputs": [],
   "source": []
  }
 ],
 "metadata": {
  "kernelspec": {
   "display_name": "Python 3 (ipykernel)",
   "language": "python",
   "name": "python3"
  },
  "language_info": {
   "codemirror_mode": {
    "name": "ipython",
    "version": 3
   },
   "file_extension": ".py",
   "mimetype": "text/x-python",
   "name": "python",
   "nbconvert_exporter": "python",
   "pygments_lexer": "ipython3",
   "version": "3.11.3"
  }
 },
 "nbformat": 4,
 "nbformat_minor": 5
}
